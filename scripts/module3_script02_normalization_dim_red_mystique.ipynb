{
 "cells": [
  {
   "cell_type": "markdown",
   "metadata": {},
   "source": [
    "# NOTE TO TAS - WORK IN PROGRESS - DO NOT REVIEW"
   ]
  },
  {
   "cell_type": "markdown",
   "metadata": {},
   "source": [
    "IMPORT PACKAGES"
   ]
  },
  {
   "cell_type": "code",
   "execution_count": null,
   "metadata": {},
   "outputs": [],
   "source": [
    "### import the following libraries\n",
    "import sys\n",
    "import pandas as pd\n",
    "import matplotlib.pyplot as plt\n",
    "import seaborn as sns\n",
    "import scanpy as sc\n",
    "from PIL import Image\n",
    "import os\n",
    "import warnings\n",
    "warnings.filterwarnings('ignore')"
   ]
  },
  {
   "cell_type": "code",
   "execution_count": null,
   "metadata": {},
   "outputs": [],
   "source": [
    "### load alzheimer's brain tissue data\n",
    "data_dir = '/home/shamini/data1/data_orig/data/spatial/xenium/10xGenomics/'\n",
    "out = '/home/shamini/data/projects/spatial_workshop/out/module2/'\n",
    "os.makedirs(out+'script01b_figures/', exist_ok=True)"
   ]
  },
  {
   "cell_type": "code",
   "execution_count": null,
   "metadata": {},
   "outputs": [],
   "source": [
    "#import sys\n",
    "sys.path.append('/home/shamini/anaconda3/envs/xenium/lib/python3.10/site-packages/')\n",
    "sys.path.append('/home/shamini/data/projects/spatial_workshop/')\n",
    "\n",
    "import pre_processing_fnc as ppf"
   ]
  },
  {
   "cell_type": "code",
   "execution_count": null,
   "metadata": {},
   "outputs": [],
   "source": [
    "### read in previous scripts mtx and df_counts files\n",
    "df_counts = pd.read_csv(out+'script01_objects/df_counts.csv', index_col=0)\n",
    "gene_mtx = pd.read_csv(out+'script01_objects/gene_mtx.csv', index_col=0)\n",
    "centroids = pd.read_csv(out+'script01_objects/centroids.csv', index_col=1)"
   ]
  },
  {
   "cell_type": "code",
   "execution_count": null,
   "metadata": {},
   "outputs": [],
   "source": []
  },
  {
   "cell_type": "code",
   "execution_count": null,
   "metadata": {},
   "outputs": [],
   "source": []
  },
  {
   "cell_type": "code",
   "execution_count": null,
   "metadata": {},
   "outputs": [],
   "source": [
    "adata_med = ppf.prepare_adata(gene_mtx, df_counts ,centroids)"
   ]
  },
  {
   "cell_type": "markdown",
   "metadata": {},
   "source": [
    "### Preparing your anndata object\n",
    "\n",
    "<img src=\"/home/shamini/data/projects/spatial_workshop/images/prepare_adata.png\" alt=\"Alt text\" width=750 height=450>\n"
   ]
  },
  {
   "cell_type": "code",
   "execution_count": null,
   "metadata": {},
   "outputs": [],
   "source": [
    "adata = ppf.process_adata(adata)\n",
    "adata_med = ppf.process_adata(adata_med, target_sum=median)"
   ]
  },
  {
   "cell_type": "code",
   "execution_count": null,
   "metadata": {},
   "outputs": [],
   "source": [
    "adata"
   ]
  },
  {
   "cell_type": "code",
   "execution_count": null,
   "metadata": {},
   "outputs": [],
   "source": [
    "sc.pl.pca(adata_med, color='gene_counts')\n",
    "sc.pl.umap(adata_med, color='gene_counts')"
   ]
  },
  {
   "cell_type": "code",
   "execution_count": null,
   "metadata": {},
   "outputs": [],
   "source": [
    "Include banksy\n",
    "\n"
   ]
  }
 ],
 "metadata": {
  "kernelspec": {
   "display_name": "xenium",
   "language": "python",
   "name": "python3"
  },
  "language_info": {
   "codemirror_mode": {
    "name": "ipython",
    "version": 3
   },
   "file_extension": ".py",
   "mimetype": "text/x-python",
   "name": "python",
   "nbconvert_exporter": "python",
   "pygments_lexer": "ipython3",
   "version": "3.1.-1"
  }
 },
 "nbformat": 4,
 "nbformat_minor": 2
}
