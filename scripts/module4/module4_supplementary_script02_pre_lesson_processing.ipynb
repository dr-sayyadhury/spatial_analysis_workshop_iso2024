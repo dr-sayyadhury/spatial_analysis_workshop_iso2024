{
 "cells": [
  {
   "cell_type": "code",
   "execution_count": 1,
   "metadata": {},
   "outputs": [],
   "source": [
    "### import the following libraries\n",
    "import sys\n",
    "import pandas as pd\n",
    "import matplotlib.pyplot as plt\n",
    "import seaborn as sns\n",
    "import scanpy as sc\n",
    "from PIL import Image\n",
    "import os\n",
    "import warnings\n",
    "import tifffile as tiff\n",
    "\n",
    "warnings.filterwarnings('ignore')"
   ]
  },
  {
   "cell_type": "code",
   "execution_count": 2,
   "metadata": {},
   "outputs": [],
   "source": [
    "### directory & filepaths\n",
    "data_dir = '/home/shamini/data1/data_orig/data/spatial/xenium/10xGenomics/cell_seg_brain_cancer/'\n",
    "out = '/home/shamini/data/projects/spatial_workshop/out/module6/'\n",
    "os.makedirs(out+'script05_figures/', exist_ok=True)"
   ]
  },
  {
   "cell_type": "code",
   "execution_count": 3,
   "metadata": {},
   "outputs": [],
   "source": [
    "### attach system files for function import\n",
    "sys.path.append('/home/shamini/data/projects/spatial_workshop/')\n",
    "sys.path.append('/home/shamini/data/projects/spatial_workshop/Banksy_py')\n",
    "\n",
    "import pre_processing_fnc as ppf"
   ]
  },
  {
   "cell_type": "code",
   "execution_count": 4,
   "metadata": {},
   "outputs": [
    {
     "data": {
      "text/plain": [
       "AnnData object with n_obs × n_vars = 815294 × 480\n",
       "    obs: 'x_centroid', 'y_centroid', 'transcript_counts', 'control_probe_counts', 'control_codeword_counts', 'unassigned_codeword_counts', 'deprecated_codeword_counts', 'total_counts', 'cell_area', 'nucleus_area', 'n_counts'\n",
       "    var: 'gene_ids', 'feature_types', 'genome', 'n_cells'"
      ]
     },
     "execution_count": 4,
     "metadata": {},
     "output_type": "execute_result"
    }
   ],
   "source": [
    "adata = sc.read_10x_h5(data_dir+'out/cell_feature_matrix.h5')\n",
    "df_cell = pd.read_parquet(data_dir+'out/cells.parquet')\n",
    "df_cell.set_index('cell_id', inplace=True)\n",
    "df_cell.reindex(adata.obs.index)\n",
    "adata.obs = df_cell\n",
    "### process the adata object\n",
    "sc.pp.filter_cells(adata, min_counts=9)\n",
    "sc.pp.filter_genes(adata, min_cells=3)\n",
    "### reduce adata size to fit the cropped image coordinates\n",
    "#adata = adata[adata.obs.index.isin(df_cells_subset['cell_id']),:]\n",
    "adata"
   ]
  },
  {
   "cell_type": "code",
   "execution_count": 5,
   "metadata": {},
   "outputs": [],
   "source": [
    "import umap\n",
    "\n",
    "sc.experimental.pp.normalize_pearson_residuals(adata)\n",
    "sc.pp.pca(adata)\n",
    "sc.pp.neighbors(adata, n_neighbors=25)\n",
    "\n",
    "\n",
    "reducer = umap.UMAP()\n",
    "embedding = reducer.fit_transform(adata.obsm['X_pca'])\n",
    "\n",
    "adata.obsm['X_umap'] = embedding\n",
    "\n",
    "adata.uns['spatial'] = adata.obs[['x_centroid', 'y_centroid']]\n",
    "adata.write_h5ad(out+'adata.h5ad')\n"
   ]
  }
 ],
 "metadata": {
  "kernelspec": {
   "display_name": "xenium",
   "language": "python",
   "name": "python3"
  },
  "language_info": {
   "codemirror_mode": {
    "name": "ipython",
    "version": 3
   },
   "file_extension": ".py",
   "mimetype": "text/x-python",
   "name": "python",
   "nbconvert_exporter": "python",
   "pygments_lexer": "ipython3",
   "version": "3.1.-1"
  }
 },
 "nbformat": 4,
 "nbformat_minor": 2
}
