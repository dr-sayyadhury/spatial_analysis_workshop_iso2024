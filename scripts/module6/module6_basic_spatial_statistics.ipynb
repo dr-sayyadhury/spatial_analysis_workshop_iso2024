{
 "cells": [
  {
   "cell_type": "markdown",
   "metadata": {},
   "source": [
    "\n",
    "> **ISO2024 INTRODUCTORY SPATIAL 'OMICS ANALYSIS**\n",
    ">\n",
    ">\n",
    ">- HYBRID : TORONTO & ZOOM\n",
    ">- 9TH JULY 2024 <br>\n",
    "\n",
    ">**Module 5 : Module 5 : Realizing the spatial potential in your datasets, part 1 ** <BR>\n",
    ">\n",
    ">**Instructor : Shamini Ayyadhury**\n",
    ">\n",
    "---"
   ]
  },
  {
   "cell_type": "markdown",
   "metadata": {},
   "source": [
    "> TOPICS COVERED\n",
    "\n",
    "* A. Centrality scores *\n",
    "* B. Ripley's L statistics *\n",
    "\n",
    "***"
   ]
  },
  {
   "cell_type": "code",
   "execution_count": null,
   "metadata": {},
   "outputs": [],
   "source": [
    "### Import packages\n",
    "\n",
    "### we will be using the builtu-in functions of squidpy to perform the analysis\n",
    "\n",
    "import squidpy as sq\n",
    "import scanpy as sc\n",
    "import seaborn as sns\n",
    "import matplotlib.pyplot as plt\n",
    "import numpy as np\n",
    "import pandas as pd\n"
   ]
  },
  {
   "cell_type": "code",
   "execution_count": null,
   "metadata": {},
   "outputs": [],
   "source": [
    "data_dir = '/home/shamini/data1/data_orig/data/spatial/xenium/10xGenomics/mice_AD_model/wt/module6/' ### data directory"
   ]
  },
  {
   "cell_type": "code",
   "execution_count": null,
   "metadata": {},
   "outputs": [],
   "source": [
    "adatas = []\n",
    "\n",
    "adata = sc.read_h5ad(data_dir + 'adata_wt_banksy.h5ad')\n",
    "adata = adata[adata.obs['cell_label'].notna()]\n",
    "adatas.append(adata)\n",
    "\n",
    "adata = sc.read_h5ad(data_dir + 'adata_wt_banksy.h5ad')\n",
    "adata = adata[adata.obs['cell_label'].notna()]\n",
    "adatas.append(adata)\n",
    "\n",
    "for adata in adatas:\n",
    "    print(adata)\n",
    "    print('')\n"
   ]
  },
  {
   "cell_type": "code",
   "execution_count": null,
   "metadata": {},
   "outputs": [],
   "source": [
    "\n",
    "\n",
    "### Step 1: Calculate spatial neighbors\n",
    "### PARTICIPANTS TO PLAY AROUND WITH THE PARAMETERS\n",
    "\n",
    "for adata in adatas:\n",
    "    sq.gr.spatial_neighbors(adata, coord_type=\"generic\", n_rings=2, delaunay=True)\n"
   ]
  },
  {
   "cell_type": "code",
   "execution_count": null,
   "metadata": {},
   "outputs": [],
   "source": [
    "from copy import deepcopy\n",
    "\n",
    "deep_centrals = []\n",
    "ser_closeness = []\n",
    "ser_degree = []\n",
    "ser_cluster = []\n",
    "\n",
    "for adata in adatas:\n",
    "    ### calling squidpy function to calculate the centrality scores\n",
    "    sq.gr.centrality_scores(adata, \"cell_label\")\n",
    "\n",
    "    # copy centrality data to new DataFrame\n",
    "    df_centrals.append(deepcopy(adata.uns[\"cell_label_centrality_scores\"]))\n",
    "\n",
    "    # sort clusters based on centrality scores\n",
    "    # closeness centrality - measure of how close the group is to other nodes.\n",
    "    ser_closeness.append(df_central[\"closeness_centrality\"].sort_values(ascending=False))\n",
    "\n",
    "    ser_degree.append(df_central[\"degree_centrality\"].sort_values(ascending=False))\n",
    "\n",
    "    # clustering coefficient - measure of the degree to which nodes cluster together.\n",
    "    ser_cluster.append(df_central[\"average_clustering\"].sort_values(ascending=False))"
   ]
  },
  {
   "cell_type": "code",
   "execution_count": null,
   "metadata": {},
   "outputs": [],
   "source": [
    "\n",
    "for i, closeness in enumerate(ser_closeness):\n",
    "    inst_clusters = ser_closeness.index.tolist()[:5]\n",
    "    print(inst_clusters)\n",
    "\n",
    "    fig, axs = plt.subplots(1, 2, figsize=(20, 6))\n",
    "    fig.suptitle(f\"Top 5 clusters and bottom 5 clusters based on closeness centrality for names[i]\", fontsize=24, y=1.05, x=0.4)\n",
    "\n",
    "    sq.pl.spatial_scatter(\n",
    "        adata, groups=inst_clusters, color=\"cell_label\", size=15, img=False, figsize=(10, 10), palette=\"tab20\", ax=axs[0]\n",
    "    )\n",
    "    axs[0].set_title(\"Top 5 clusters based on closeness centrality\", loc=\"left\")\n",
    "\n",
    "    inst_clusters = ser_closeness.index.tolist()[-5:]\n",
    "    print(inst_clusters)\n",
    "    sq.pl.spatial_scatter(\n",
    "        adata, groups=inst_clusters, color=\"cell_label\", size=15, img=False, figsize=(10, 10), palette=\"tab20\", ax=axs[1]\n",
    "    )\n",
    "    axs[1].set_title(\"Bottom 5 clusters based on closeness centrality\", loc=\"left\")"
   ]
  },
  {
   "cell_type": "code",
   "execution_count": null,
   "metadata": {},
   "outputs": [],
   "source": [
    "for adata in adatas:\n",
    "    sq.gr.ripley(adata, \n",
    "                  cluster_key='cell_label', \n",
    "                  mode='L', \n",
    "                  spatial_key='spatial', \n",
    "                  metric='euclidean', \n",
    "                  n_neigh=2, \n",
    "                  n_simulations=50, n_observations=1000, \n",
    "                  max_dist=None, \n",
    "                  n_steps=50, \n",
    "                  seed=None, \n",
    "                  copy=False)\n"
   ]
  },
  {
   "cell_type": "code",
   "execution_count": null,
   "metadata": {},
   "outputs": [],
   "source": [
    "df_cell_ripley = []\n",
    "sim = []\n",
    "\n",
    "for adata in adatas:\n",
    "    df_cell_ripley.append(pd.DataFrame(adata.uns['cell_label_ripley_L']['L_stat']))\n",
    "    sim.append(pd.DataFrame(adata.uns['cell_label_ripley_L']['sims_stat']))\n",
    "    sim.columns = ['bins', 'cell_label', 'stats']\n",
    "    sim['cell_label'] = 'sim'\n"
   ]
  },
  {
   "cell_type": "code",
   "execution_count": null,
   "metadata": {},
   "outputs": [],
   "source": [
    "df_cell_ripley_high_cen = []\n",
    "df_cell_ripley_low_cen = []\n",
    "\n",
    "for closeness in ser_closeness:\n",
    "    df_cell_ripley_high_cen.append(df_cell_ripley[df_cell_ripley['cell_label'].isin(closeness.index.tolist()[:5])].copy())\n",
    "    df_cell_ripley_low_cen.append(df_cell_ripley[df_cell_ripley['cell_label'].isin(closeness.index.tolist()[-5:])].copy())"
   ]
  },
  {
   "cell_type": "code",
   "execution_count": null,
   "metadata": {},
   "outputs": [],
   "source": [
    "import pandas as pd\n",
    "import seaborn as sns\n",
    "import matplotlib.pyplot as plt\n",
    "\n",
    "# Assuming sim DataFrame has similar structure with 'bins', 'stats', and 'cell_label' or equivalent columns\n",
    "# If necessary, adjust the columns to match those in df_cell_ripley_high_cen\n",
    "\n",
    "fig, axs = plt.subplots(1, 2, figsize=(20, 6))\n",
    "\n",
    "for i, adata in enumerate(adatas):\n",
    "    # Add a distinguishing column\n",
    "    df_cell_ripley_high_cen[i]['source'] = 'High Closeness Centrality'\n",
    "    sim[i]['source'] = 'Simulated Data'\n",
    "\n",
    "    # Ensure columns match, renaming if necessary\n",
    "    # Assuming sim has columns 'bins' and 'stats' similar to df_cell_ripley_high_cen\n",
    "    # If 'cell_label' is not present, you may need to adjust accordingly\n",
    "    if 'cell_label' not in sim[i].columns:\n",
    "        sim[i]['cell_label'] = 'Simulated'  # or any other distinguishing label\n",
    "\n",
    "    # Concatenate DataFrames\n",
    "    combined_df = pd.concat([df_cell_ripley_high_cen, sim])\n",
    "\n",
    "    # Plotting\n",
    "    ax = sns.lineplot(data=combined_df, x='bins', y='stats', hue='cell_label', style='source', legend='brief', ax=axs[i])\n",
    "\n",
    "    # Customize the legend\n",
    "    handles, labels = ax.get_legend_handles_labels()\n",
    "    # Filter out the legends that are in the combined DataFrame\n",
    "    filtered_handles_labels = [(h, l) for h, l in zip(handles, labels) if l in combined_df['cell_label'].unique()]\n",
    "    handles, labels = zip(*filtered_handles_labels)\n",
    "    ax.legend(handles, labels, loc='center left', bbox_to_anchor=(1, 0.5), title='Legend')\n",
    "\n",
    "    # Set plot title and labels\n",
    "    ax.title(f'Ripley L-function for High Closeness Centrality and Simulated Data for names[i]')\n",
    "    ax.set_xlabel('Bins')\n",
    "    ax.set_ylabel('Stats')\n",
    "\n",
    "# Show plot\n",
    "plt.show()\n"
   ]
  },
  {
   "cell_type": "markdown",
   "metadata": {},
   "source": []
  },
  {
   "cell_type": "markdown",
   "metadata": {},
   "source": []
  }
 ],
 "metadata": {
  "language_info": {
   "name": "python"
  }
 },
 "nbformat": 4,
 "nbformat_minor": 2
}
