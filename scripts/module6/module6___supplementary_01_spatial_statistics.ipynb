{
 "cells": [
  {
   "cell_type": "markdown",
   "metadata": {},
   "source": [
    "\n",
    "> **ISO2024 INTRODUCTORY SPATIAL 'OMICS ANALYSIS**\n",
    ">\n",
    ">\n",
    ">- HYBRID : TORONTO & ZOOM\n",
    ">- 9TH JULY 2024 <br>\n",
    "\n",
    "\n",
    ">**Module 2 : Pre-processing steps**<BR>\n",
    ">   * A. Understanding your output *\n",
    ">   * B. Tidying and pre-evaluating your data *\n",
    "\n",
    ">\n",
    ">**Instructor : Shamini Ayyadhury**\n",
    "\n",
    "---"
   ]
  },
  {
   "cell_type": "markdown",
   "metadata": {},
   "source": [
    "> TOPICS COVERED\n",
    "\n",
    "* A. Centrality scores *\n",
    "* B. Ripley's L statistics *\n",
    "\n",
    "***"
   ]
  },
  {
   "cell_type": "code",
   "execution_count": 1,
   "metadata": {},
   "outputs": [],
   "source": [
    "### import the following libraries\n",
    "\n",
    "### Packages for general system functions, miscellaneous operating system interfaces, warning control system\n",
    "import sys ### general system functions\n",
    "import os ### miscellaneous operating system interfaces\n",
    "import warnings ### warning control system\n",
    "import psutil\n",
    "warnings.filterwarnings('ignore') ### ignore warnings\n",
    "\n",
    "### Packages for data manipulation and analysis, data visualization\n",
    "import pandas as pd ### data manipulation and analysis for tabular data in python\n",
    "import matplotlib.pyplot as plt ### plotting library for the Python programming language and its numerical mathematics extension NumPy\n",
    "import seaborn as sns ### data visualization library based on matplotlib (my personal favourite over matplotlib)\n",
    "import numpy as np ### support for large, multi-dimensional arrays and matrices, along with a collection of mathematical functions to operate on these arrays\n"
   ]
  },
  {
   "cell_type": "code",
   "execution_count": 2,
   "metadata": {},
   "outputs": [],
   "source": [
    "\n",
    "sys.path.append('/home/shamini/data/projects/spatial_workshop/')\n",
    "import pre_processing_fnc as ppf"
   ]
  },
  {
   "cell_type": "code",
   "execution_count": 3,
   "metadata": {},
   "outputs": [
    {
     "data": {
      "text/plain": [
       "'Memory usage: 582.86 MB'"
      ]
     },
     "execution_count": 3,
     "metadata": {},
     "output_type": "execute_result"
    }
   ],
   "source": [
    "### its sometimes useful to assign the file names or paths to variables to avoid typing errors\n",
    "\n",
    "### path variables\n",
    "data_dir = '/home/shamini/data1/data_orig/data/spatial/xenium/10xGenomics/' ### data directory\n",
    "os.makedirs(data_dir+'mice_AD_model/wt/module6', exist_ok=True) ### create a new directory for saving files (but checks if the directory already exists)\n",
    "\n",
    "\n",
    "### object variables\n",
    "datasets_to_use = 'mice_AD_model/wt/xenium_out/' ### the name of the dataset to use\n",
    "features_filepath = 'cell_feature_matrix.h5'\n",
    "cells_filename = 'cells.parquet'\n",
    "transcripts_filename = 'transcripts.parquet'\n",
    "metrices_filename = 'metrics_summary.csv'\n",
    "\n",
    "\n",
    "ppf.get_memory_usage() ### monitor memory usage"
   ]
  },
  {
   "cell_type": "code",
   "execution_count": 6,
   "metadata": {},
   "outputs": [
    {
     "data": {
      "text/plain": [
       "'Memory usage: 4440.82 MB'"
      ]
     },
     "execution_count": 6,
     "metadata": {},
     "output_type": "execute_result"
    }
   ],
   "source": [
    "\n",
    "### we will load 3 files here: cell_feature_matrix.h5, cells.parquet and transcripts.parquet\n",
    "### We will check the parquet file to ensure that the string values are not in bytes format and if they are to convert them back to string\n",
    "df_cell = ppf.check_parquet(os.path.join(data_dir+datasets_to_use ,cells_filename))\n",
    "df_transcript = ppf.check_parquet(os.path.join(data_dir+datasets_to_use, transcripts_filename))\n",
    "df_metric = pd.read_csv(os.path.join(data_dir+datasets_to_use, metrices_filename))\n",
    "\n",
    "ppf.get_memory_usage() ### monitor memory usage"
   ]
  },
  {
   "cell_type": "markdown",
   "metadata": {},
   "source": [
    "Analyze transcript QC"
   ]
  },
  {
   "cell_type": "code",
   "execution_count": 7,
   "metadata": {},
   "outputs": [
    {
     "data": {
      "text/plain": [
       "'Memory usage: 5446.76 MB'"
      ]
     },
     "execution_count": 7,
     "metadata": {},
     "output_type": "execute_result"
    }
   ],
   "source": [
    "\n",
    "\n",
    "processed_data = ppf.process_data(df_transcript) ### we process and assign the output to an object called processed_data\n",
    "del df_transcript ### we delete the original transcript dataframe to save memory\n",
    "\n",
    "ppf.get_memory_usage() ### monitor memory usage"
   ]
  },
  {
   "cell_type": "code",
   "execution_count": 8,
   "metadata": {},
   "outputs": [
    {
     "data": {
      "text/html": [
       "<div>\n",
       "<style scoped>\n",
       "    .dataframe tbody tr th:only-of-type {\n",
       "        vertical-align: middle;\n",
       "    }\n",
       "\n",
       "    .dataframe tbody tr th {\n",
       "        vertical-align: top;\n",
       "    }\n",
       "\n",
       "    .dataframe thead th {\n",
       "        text-align: right;\n",
       "    }\n",
       "</style>\n",
       "<table border=\"1\" class=\"dataframe\">\n",
       "  <thead>\n",
       "    <tr style=\"text-align: right;\">\n",
       "      <th></th>\n",
       "      <th>transcript_id</th>\n",
       "      <th>cell_id</th>\n",
       "      <th>overlaps_nucleus</th>\n",
       "      <th>feature_name</th>\n",
       "      <th>x_location</th>\n",
       "      <th>y_location</th>\n",
       "      <th>z_location</th>\n",
       "      <th>qv</th>\n",
       "      <th>fov_name</th>\n",
       "      <th>nucleus_distance</th>\n",
       "      <th>group</th>\n",
       "      <th>binary</th>\n",
       "    </tr>\n",
       "  </thead>\n",
       "  <tbody>\n",
       "    <tr>\n",
       "      <th>0</th>\n",
       "      <td>281474976710757</td>\n",
       "      <td>chhhnfkp-1</td>\n",
       "      <td>0</td>\n",
       "      <td>BLANK_0028</td>\n",
       "      <td>453.595123</td>\n",
       "      <td>872.884766</td>\n",
       "      <td>16.262711</td>\n",
       "      <td>5.387139</td>\n",
       "      <td>A1</td>\n",
       "      <td>0.490234</td>\n",
       "      <td>neg_probes</td>\n",
       "      <td>assigned</td>\n",
       "    </tr>\n",
       "    <tr>\n",
       "      <th>1</th>\n",
       "      <td>281474976710923</td>\n",
       "      <td>chhkgjhm-1</td>\n",
       "      <td>0</td>\n",
       "      <td>BLANK_0020</td>\n",
       "      <td>460.812592</td>\n",
       "      <td>872.894104</td>\n",
       "      <td>16.546083</td>\n",
       "      <td>7.981221</td>\n",
       "      <td>A1</td>\n",
       "      <td>0.670534</td>\n",
       "      <td>neg_probes</td>\n",
       "      <td>assigned</td>\n",
       "    </tr>\n",
       "    <tr>\n",
       "      <th>2</th>\n",
       "      <td>281474976710928</td>\n",
       "      <td>chhggofm-1</td>\n",
       "      <td>1</td>\n",
       "      <td>BLANK_0039</td>\n",
       "      <td>479.464355</td>\n",
       "      <td>877.083496</td>\n",
       "      <td>18.179480</td>\n",
       "      <td>13.063369</td>\n",
       "      <td>A1</td>\n",
       "      <td>0.000000</td>\n",
       "      <td>neg_probes</td>\n",
       "      <td>assigned</td>\n",
       "    </tr>\n",
       "    <tr>\n",
       "      <th>3</th>\n",
       "      <td>281474976711241</td>\n",
       "      <td>chfgmodb-1</td>\n",
       "      <td>0</td>\n",
       "      <td>NegControlCodeword_0513</td>\n",
       "      <td>539.307312</td>\n",
       "      <td>873.435242</td>\n",
       "      <td>19.953156</td>\n",
       "      <td>6.050564</td>\n",
       "      <td>A1</td>\n",
       "      <td>0.420708</td>\n",
       "      <td>neg_probes</td>\n",
       "      <td>assigned</td>\n",
       "    </tr>\n",
       "    <tr>\n",
       "      <th>4</th>\n",
       "      <td>281474976711333</td>\n",
       "      <td>UNASSIGNED</td>\n",
       "      <td>0</td>\n",
       "      <td>NegControlProbe_00009</td>\n",
       "      <td>46.383392</td>\n",
       "      <td>741.893066</td>\n",
       "      <td>12.222447</td>\n",
       "      <td>6.111165</td>\n",
       "      <td>A1</td>\n",
       "      <td>297.139221</td>\n",
       "      <td>neg_probes</td>\n",
       "      <td>unassigned</td>\n",
       "    </tr>\n",
       "  </tbody>\n",
       "</table>\n",
       "</div>"
      ],
      "text/plain": [
       "     transcript_id     cell_id  overlaps_nucleus             feature_name  \\\n",
       "0  281474976710757  chhhnfkp-1                 0               BLANK_0028   \n",
       "1  281474976710923  chhkgjhm-1                 0               BLANK_0020   \n",
       "2  281474976710928  chhggofm-1                 1               BLANK_0039   \n",
       "3  281474976711241  chfgmodb-1                 0  NegControlCodeword_0513   \n",
       "4  281474976711333  UNASSIGNED                 0    NegControlProbe_00009   \n",
       "\n",
       "   x_location  y_location  z_location         qv fov_name  nucleus_distance  \\\n",
       "0  453.595123  872.884766   16.262711   5.387139       A1          0.490234   \n",
       "1  460.812592  872.894104   16.546083   7.981221       A1          0.670534   \n",
       "2  479.464355  877.083496   18.179480  13.063369       A1          0.000000   \n",
       "3  539.307312  873.435242   19.953156   6.050564       A1          0.420708   \n",
       "4   46.383392  741.893066   12.222447   6.111165       A1        297.139221   \n",
       "\n",
       "        group      binary  \n",
       "0  neg_probes    assigned  \n",
       "1  neg_probes    assigned  \n",
       "2  neg_probes    assigned  \n",
       "3  neg_probes    assigned  \n",
       "4  neg_probes  unassigned  "
      ]
     },
     "execution_count": 8,
     "metadata": {},
     "output_type": "execute_result"
    }
   ],
   "source": [
    "processed_data.head()\n",
    "### note the additional columns added to the processed_data dataframe : group and binary\n"
   ]
  },
  {
   "cell_type": "code",
   "execution_count": 9,
   "metadata": {},
   "outputs": [
    {
     "data": {
      "text/plain": [
       "'Memory usage: 5949.45 MB'"
      ]
     },
     "execution_count": 9,
     "metadata": {},
     "output_type": "execute_result"
    }
   ],
   "source": [
    "\"\"\"\n",
    "The cleaned data is then used to create the gene matrix, control matrix, counts matrix and cell centroid matrix \n",
    "Here, it involves removing low quality transcripts and assigning the transcripts to the cells based on the cell segmentation from the standard xenium clear_output\n",
    "We still keep the negative control values as a separate matrix\n",
    "\n",
    "However the 3 matrices that we will bring forward to the next lesson are\n",
    "1. gene matrix\n",
    "2. counts matrix\n",
    "3. cell centroid matrix\n",
    "\"\"\"\n",
    "\n",
    "df_counts, transcripts_df, gene_mtx, neg_mtx, centroids = ppf.clean_processed_tf(processed_data)\n",
    "\n",
    "ppf.get_memory_usage() ### monitor memory usage"
   ]
  },
  {
   "cell_type": "code",
   "execution_count": 11,
   "metadata": {},
   "outputs": [
    {
     "data": {
      "text/plain": [
       "'Memory usage: 5994.52 MB'"
      ]
     },
     "execution_count": 11,
     "metadata": {},
     "output_type": "execute_result"
    }
   ],
   "source": [
    "df_counts.to_csv(data_dir+'mice_AD_model/wt/module6/df_counts.csv', index=True)\n",
    "gene_mtx.to_csv(data_dir+'mice_AD_model/wt/module6/gene_mtx.csv', index=True)\n",
    "neg_mtx.to_csv(data_dir+'mice_AD_model/wt/module6/neg_mtx.csv', index=True)\n",
    "centroids.to_csv(data_dir+'mice_AD_model/wt/module6/centroids.csv', index=True)\n",
    "transcripts_df.to_csv(data_dir+'mice_AD_model/wt/module6/transcripts_df.csv', index=True)\n",
    "\n",
    "ppf.get_memory_usage() ### monitor memory usage"
   ]
  },
  {
   "cell_type": "code",
   "execution_count": 13,
   "metadata": {},
   "outputs": [],
   "source": [
    "import scanpy as sc ### scanpy is a package for single-cell analysis in python"
   ]
  },
  {
   "cell_type": "code",
   "execution_count": 14,
   "metadata": {},
   "outputs": [],
   "source": [
    "adata = sc.AnnData(X=gene_mtx, var=pd.DataFrame(index=gene_mtx.columns.values))\n",
    "\n",
    "df_counts = df_counts[df_counts.index.isin(gene_mtx.index)]\n",
    "\n",
    "df_counts = df_counts.reindex(gene_mtx.index)\n",
    "adata.obs = df_counts.copy()\n",
    "    \n",
    "centroids = centroids.reindex(adata.obs.index)\n",
    "adata.obs[['x_location', 'y_location']] = centroids[['centroid_x', 'centroid_y']].values\n",
    "\n",
    "gene_mtx_bool = gene_mtx > 0\n",
    "n_cells = gene_mtx_bool.sum(axis=0)\n",
    "n_genes = gene_mtx_bool.sum(axis=1)\n",
    "\n",
    "adata.var['n_cells'] = n_cells\n",
    "adata.obs['n_genes'] = n_genes\n",
    "\n",
    "sc.pp.filter_genes(adata, min_cells=3)\n",
    "sc.pp.filter_cells(adata, min_counts=9)\n",
    "\n"
   ]
  },
  {
   "cell_type": "code",
   "execution_count": 15,
   "metadata": {},
   "outputs": [],
   "source": [
    "n_genes = gene_mtx_bool.sum(axis=1)\n",
    "adata.obs['n_genes'] = n_genes"
   ]
  },
  {
   "cell_type": "code",
   "execution_count": 16,
   "metadata": {},
   "outputs": [
    {
     "data": {
      "text/plain": [
       "'Memory usage: 6159.04 MB'"
      ]
     },
     "execution_count": 16,
     "metadata": {},
     "output_type": "execute_result"
    },
    {
     "data": {
      "image/png": "[encoded data removed]",
      "text/plain": [
       "<Figure size 700x500 with 1 Axes>"
      ]
     },
     "metadata": {},
     "output_type": "display_data"
    }
   ],
   "source": [
    "fig, axes = plt.subplots(1, 1, figsize=(7, 5))\n",
    "\n",
    "\n",
    "median = np.median(adata.obs['n_genes'])\n",
    "mean = np.mean(adata.obs['n_genes'])\n",
    "\n",
    "adata.uns['n_genes_med'] = median\n",
    "adata.uns['n_genes_mean'] = mean\n",
    "\n",
    "### first look at counts distribution\n",
    "ax = sns.histplot(adata.obs['n_genes'], bins=180, color='gray')\n",
    "ax.axvline(median, color='red', linestyle='--', label='median')\n",
    "ax.axvline(mean, color='blue', linestyle='--', label='mean')\n",
    "ax.legend()\n",
    "ax.set_title('B2C. Genes expressed per cell distribution')\n",
    "\n",
    "\n",
    "\n",
    "ppf.get_memory_usage() ### monitor memory usage"
   ]
  },
  {
   "cell_type": "code",
   "execution_count": 17,
   "metadata": {},
   "outputs": [],
   "source": [
    "### Always remember to save the coordinates of the spatial data in the adata object into the uns and obsm slots. Many methods call the spatial coordinates from these slots\n",
    "\n",
    "adata.obsm['spatial'] = adata.obs[['x_location', 'y_location']].values\n",
    "adata.uns['spatial'] = {'spatial' : adata.obsm['spatial'].copy()}"
   ]
  },
  {
   "cell_type": "code",
   "execution_count": 18,
   "metadata": {},
   "outputs": [],
   "source": [
    "### save your adata\n",
    "adata.raw = adata\n",
    "adata.write(data_dir+'mice_AD_model/wt/module6/adata_wt.h5ad')"
   ]
  }
 ],
 "metadata": {
  "kernelspec": {
   "display_name": "xenium",
   "language": "python",
   "name": "python3"
  },
  "language_info": {
   "codemirror_mode": {
    "name": "ipython",
    "version": 3
   },
   "file_extension": ".py",
   "mimetype": "text/x-python",
   "name": "python",
   "nbconvert_exporter": "python",
   "pygments_lexer": "ipython3",
   "version": "3.1.-1"
  }
 },
 "nbformat": 4,
 "nbformat_minor": 2
}
